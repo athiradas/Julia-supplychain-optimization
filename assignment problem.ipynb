{
 "cells": [
  {
   "cell_type": "code",
   "execution_count": null,
   "metadata": {
    "collapsed": true
   },
   "outputs": [],
   "source": [
    "# Assignment problem(revised)\n",
    "using JuMP\n",
    "m=Model()\n",
    "c=[13 4 7 6;1 11 5 4;6 7 2 8;1 3 5 9]\n",
    "@variable(m,x[i=1:4,j=1:4], Bin)\n",
    "@objective(m,Min,sum(c.*x[i=1:4,j=1:4]))\n",
    "    @constraint(m, [i=1:4],sum(x[i,j] for j=1:4)==1) \n",
    "@constraint(m,[j=1:4],sum(x[i,j] for i=1:4)==1) \n",
    "println(m)\n",
    "status=solve(m)\n",
    "        println(\"x=\",getvalue(x[i=1:4,j=1:4]))\n",
    "println(\"Objective value=\",getobjectivevalue(m))"
   ]
  }
 ],
 "metadata": {
  "kernelspec": {
   "display_name": "Julia 0.5.0",
   "language": "julia",
   "name": "julia-0.5"
  },
  "language_info": {
   "file_extension": ".jl",
   "mimetype": "application/julia",
   "name": "julia",
   "version": "0.5.0"
  }
 },
 "nbformat": 4,
 "nbformat_minor": 1
}
